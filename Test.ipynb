{
 "cells": [
  {
   "cell_type": "markdown",
   "metadata": {},
   "source": [
    "Importing"
   ]
  },
  {
   "cell_type": "code",
   "execution_count": 2,
   "metadata": {},
   "outputs": [],
   "source": [
    "import numpy as np\n",
    "import matplotlib.pyplot as plt\n",
    "import os\n",
    "\n"
   ]
  },
  {
   "cell_type": "markdown",
   "metadata": {},
   "source": [
    "Testing the dataset"
   ]
  },
  {
   "cell_type": "code",
   "execution_count": 3,
   "metadata": {},
   "outputs": [
    {
     "name": "stdout",
     "output_type": "stream",
     "text": [
      "Total number of files: 7909\n"
     ]
    }
   ],
   "source": [
    "database_dir = \"/Users/alexrendell/Documents/MSc - Advanced Computer Science/CSCM10-Computer_Science_Project_Research_Methods/Databases/BreakHis_BreastCancer\"\n",
    "\n",
    "num_files = sum(len(files) for _, _, files in os.walk(database_dir))\n",
    "\n",
    "print(f\"Total number of files: {num_files}\")\n",
    "\n"
   ]
  },
  {
   "cell_type": "markdown",
   "metadata": {},
   "source": [
    "Spliting the data\n",
    "70%: Training\n",
    "15%: Testing\n",
    "15%: Validation"
   ]
  },
  {
   "cell_type": "code",
   "execution_count": 7,
   "metadata": {},
   "outputs": [
    {
     "name": "stdout",
     "output_type": "stream",
     "text": [
      "7909\n"
     ]
    }
   ],
   "source": [
    "from Data_Preprocessing import BreastCancerDataset, transform\n",
    "\n",
    "dataset = BreastCancerDataset(root_dir=database_dir, transform=transform)\n",
    "\n",
    "print(len(dataset.labels))"
   ]
  }
 ],
 "metadata": {
  "kernelspec": {
   "display_name": "base",
   "language": "python",
   "name": "python3"
  },
  "language_info": {
   "codemirror_mode": {
    "name": "ipython",
    "version": 3
   },
   "file_extension": ".py",
   "mimetype": "text/x-python",
   "name": "python",
   "nbconvert_exporter": "python",
   "pygments_lexer": "ipython3",
   "version": "3.11.5"
  }
 },
 "nbformat": 4,
 "nbformat_minor": 2
}
